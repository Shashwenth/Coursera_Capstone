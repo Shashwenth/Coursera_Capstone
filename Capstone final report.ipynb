{
 "cells": [
  {
   "cell_type": "markdown",
   "metadata": {},
   "source": [
    "#  Tour Guide"
   ]
  },
  {
   "cell_type": "markdown",
   "metadata": {},
   "source": [
    "## Introduction "
   ]
  },
  {
   "cell_type": "markdown",
   "metadata": {},
   "source": [
    "### Problem Background:"
   ]
  },
  {
   "cell_type": "markdown",
   "metadata": {},
   "source": [
    "London is the capital and largest city of England and the United Kingdom.\n",
    "London is considered to be one of the world's most important global cities and has been called the world's most powerful,most desirable,most influential,most visited,most expensive,sustainable,most investment-friendly,and most-popular-for-work city. London exerts a considerable impact upon the arts, commerce, education, entertainment, fashion, finance, healthcare, media, professional services, research and development, tourism and transportation.London ranks 26th out of 300 major cities for economic performance.It is one of the largest financial centres and has either the fifth or the sixth largest metropolitan area GDP.It is the most-visited city as measured by international arrivals and has the busiest city airport system as measured by passenger traffic."
   ]
  },
  {
   "cell_type": "markdown",
   "metadata": {},
   "source": [
    "### Problem Description:"
   ]
  },
  {
   "cell_type": "markdown",
   "metadata": {},
   "source": [
    "London is a city where arts and entertainment are at its best.\n",
    "Leisure is a major part of the London economy, with a 2003 report attributing a quarter of the entire UK leisure economy to London at 25.6 events per 1000 people.Globally, the city is amongst the big four fashion capitals of the world, and according to official statistics, London is the world's third busiest film production centre, presents more live comedy than any other city,and has the biggest theatre audience of any city in the world.\n",
    "London is home to many museums, galleries, and other institutions, many of which are free of admission charges and are major tourist attractions as well as playing a research role.\n",
    "London is one of the major classical and popular music capitals of the world and hosts major music corporations, such as Universal Music Group International and Warner Music Group, as well as countless bands, musicians and industry professionals. The city is also home to many orchestras and concert halls.\n",
    "\n",
    "\n",
    "This leads to a increasingly high amount of tourists from all around the world.\n",
    "\n",
    "**This project's main objective is to locate the 20 nearest popular destinations to visit from a particular Hotel where the tourist is staying.**"
   ]
  },
  {
   "cell_type": "markdown",
   "metadata": {},
   "source": [
    "### Target Audience:\n"
   ]
  },
  {
   "cell_type": "markdown",
   "metadata": {},
   "source": [
    "The main objective is to help the first time vistors, eventually they become the target audience.\n",
    "\n",
    "But common tourists will also find this result useful."
   ]
  },
  {
   "cell_type": "markdown",
   "metadata": {},
   "source": [
    "## Data:\n"
   ]
  },
  {
   "cell_type": "markdown",
   "metadata": {},
   "source": [
    "One city will be analysed in this project:London\n",
    "\n",
    "All the data used in this project was collected using Foursquare API.\n",
    "\n",
    "We will be using the following datasets.\n"
   ]
  },
  {
   "cell_type": "markdown",
   "metadata": {},
   "source": [
    "This first data consists of ten famous Hotels in London.\n",
    "\n",
    "These Hotels are used as 10 different sources to find 20 nearest destinations from each one of them.\n",
    "\n",
    "<img src=\"asd.png\">"
   ]
  },
  {
   "cell_type": "markdown",
   "metadata": {},
   "source": [
    "This second data consist of 100 famous destinations to visti in London.\n",
    "\n",
    "Of these 20 nearest of them will be shown from a particular location.\n",
    "\n",
    "<img src=\"b.png\">"
   ]
  },
  {
   "cell_type": "markdown",
   "metadata": {},
   "source": [
    "## Exploratory data analysis:"
   ]
  },
  {
   "cell_type": "markdown",
   "metadata": {},
   "source": [
    "### Data Cleaning:"
   ]
  },
  {
   "cell_type": "markdown",
   "metadata": {},
   "source": [
    "We know that London is a city rich in culture and entertainment.Using the foursquare API the data needed for the project,that is,the data of hotels and the data of famous destinations were derived.\n",
    "\n",
    "Of all the Hotels imported only 10 of the top Hotels hotels were considered for this project for convinence.\n",
    "Similarly among all the famous destinations 100 of them were considered.\n",
    "\n"
   ]
  },
  {
   "cell_type": "markdown",
   "metadata": {},
   "source": [
    "### Mathematical formulations used:"
   ]
  },
  {
   "cell_type": "markdown",
   "metadata": {},
   "source": [
    "Since this project aims to find 20 destinations near a particular source (Hotel) we initially find the distance between each hotel and all the destinations.Then we sort them in ascending order.Finally we pick top 20 of them corresponding to each hotels.\n",
    "\n",
    "To calculate the distance we use the following formula:\n",
    "\n",
    "z = math.sin(dla / 2)square + math.cos(la1) * math.cos(la2) * math.sin(dlo / 2)square\n",
    "\n",
    "x = 2 * math.atan2(math.sqrt(z), math.sqrt(1 - z))\n",
    "\n",
    "distance=R*x\n",
    "\n",
    "where\n",
    "\n",
    "R=6373\n",
    "\n",
    "dla=latitude1-latitude2\n",
    "\n",
    "dlo=longitude1-longitude2"
   ]
  },
  {
   "cell_type": "markdown",
   "metadata": {},
   "source": [
    "## Result:"
   ]
  },
  {
   "cell_type": "markdown",
   "metadata": {},
   "source": [
    "The final result is a map that shows 20 nearest destinations given the name of the hotel where the tourist is staying.\n",
    "\n",
    "For instance,if the tourist enters the name of the hotel as \"Rosewood London\" the output will be:\n",
    "\n",
    "**1.The name of all the 20 destinations:**\n",
    "\n",
    "Theatre Royal, Drury Lane\n",
    "\n",
    "Linbury Theatre\n",
    "\n",
    "Royal Opera House\n",
    "\n",
    "Royal Ballet School\n",
    "\n",
    "British Museum\n",
    "\n",
    "The Courtauld Gallery\n",
    "\n",
    "Lyceum Theatre\n",
    "\n",
    "Pineapple Dance Studios\n",
    "\n",
    "Matilda The Musical\n",
    "\n",
    "The Egyptian Exhibition\n",
    "\n",
    "Two Temple Place\n",
    "\n",
    "Curzon Bloomsbury\n",
    "\n",
    "Prince Edward Theatre\n",
    "\n",
    "English National Opera\n",
    "\n",
    "Ronnie Scott's Jazz Club\n",
    "\n",
    "Prince Charles Cinema\n",
    "\n",
    "Soho Theatre\n",
    "\n",
    "National Portrait Gallery\n",
    "\n",
    "National Theatre\n",
    "\n",
    "Dorfman Theatre\n",
    "\n",
    "**2.A map showing the above destinations abd the source**\n",
    "\n",
    "<img src=\"qwe.png\">\n",
    "\n",
    "\n"
   ]
  },
  {
   "cell_type": "markdown",
   "metadata": {},
   "source": []
  },
  {
   "cell_type": "markdown",
   "metadata": {},
   "source": [
    "## Conclusion:"
   ]
  },
  {
   "cell_type": "markdown",
   "metadata": {},
   "source": [
    "In this study,I have analysed the relationship between two different datas.These interactions data are obviously more difficult to extract and quantify, but if optimized, could bring significant improvements to the models.This project might have widely large applictions in the upcoming days as the tourist and recreation is a highly productive industry."
   ]
  }
 ],
 "metadata": {
  "kernelspec": {
   "display_name": "Python 3",
   "language": "python",
   "name": "python3"
  },
  "language_info": {
   "codemirror_mode": {
    "name": "ipython",
    "version": 3
   },
   "file_extension": ".py",
   "mimetype": "text/x-python",
   "name": "python",
   "nbconvert_exporter": "python",
   "pygments_lexer": "ipython3",
   "version": "3.7.4"
  }
 },
 "nbformat": 4,
 "nbformat_minor": 2
}
