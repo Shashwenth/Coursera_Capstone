{
 "cells": [
  {
   "cell_type": "markdown",
   "metadata": {},
   "source": [
    "#  Applied Data Science Capstone"
   ]
  },
  {
   "cell_type": "markdown",
   "metadata": {},
   "source": [
    "## Introduction "
   ]
  },
  {
   "cell_type": "markdown",
   "metadata": {},
   "source": [
    "### Problem Background:"
   ]
  },
  {
   "cell_type": "markdown",
   "metadata": {},
   "source": [
    "London is the capital and largest city of England and the United Kingdom.\n",
    "London is considered to be one of the world's most important global cities and has been called the world's most powerful,most desirable,most influential,most visited,most expensive,sustainable,most investment-friendly,and most-popular-for-work city. London exerts a considerable impact upon the arts, commerce, education, entertainment, fashion, finance, healthcare, media, professional services, research and development, tourism and transportation.London ranks 26th out of 300 major cities for economic performance.It is one of the largest financial centres and has either the fifth or the sixth largest metropolitan area GDP.It is the most-visited city as measured by international arrivals and has the busiest city airport system as measured by passenger traffic."
   ]
  },
  {
   "cell_type": "markdown",
   "metadata": {},
   "source": [
    "### Problem Description:"
   ]
  },
  {
   "cell_type": "markdown",
   "metadata": {},
   "source": [
    "London is a city where arts and entertainment are at its best.\n",
    "Leisure is a major part of the London economy, with a 2003 report attributing a quarter of the entire UK leisure economy to London at 25.6 events per 1000 people.Globally, the city is amongst the big four fashion capitals of the world, and according to official statistics, London is the world's third busiest film production centre, presents more live comedy than any other city,and has the biggest theatre audience of any city in the world.\n",
    "London is home to many museums, galleries, and other institutions, many of which are free of admission charges and are major tourist attractions as well as playing a research role.\n",
    "London is one of the major classical and popular music capitals of the world and hosts major music corporations, such as Universal Music Group International and Warner Music Group, as well as countless bands, musicians and industry professionals. The city is also home to many orchestras and concert halls.\n",
    "\n",
    "\n",
    "This leads to a increasingly high amount of tourists from all around the world.\n",
    "\n",
    "**This project's main objective is to locate the 20 nearest popular destinations to visit from a particular Hotel where the tourist is staying.**"
   ]
  }
 ],
 "metadata": {
  "kernelspec": {
   "display_name": "Python 3",
   "language": "python",
   "name": "python3"
  },
  "language_info": {
   "codemirror_mode": {
    "name": "ipython",
    "version": 3
   },
   "file_extension": ".py",
   "mimetype": "text/x-python",
   "name": "python",
   "nbconvert_exporter": "python",
   "pygments_lexer": "ipython3",
   "version": "3.7.4"
  }
 },
 "nbformat": 4,
 "nbformat_minor": 2
}
